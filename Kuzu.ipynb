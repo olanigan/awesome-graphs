{
  "nbformat": 4,
  "nbformat_minor": 0,
  "metadata": {
    "colab": {
      "provenance": []
    },
    "kernelspec": {
      "name": "python3",
      "display_name": "Python 3"
    },
    "language_info": {
      "name": "python"
    }
  },
  "cells": [
    {
      "cell_type": "code",
      "execution_count": null,
      "metadata": {
        "colab": {
          "base_uri": "https://localhost:8080/"
        },
        "id": "wgNI0w69uV8a",
        "outputId": "8e751aea-209a-4bb0-daf1-bbfcf93e9a74"
      },
      "outputs": [
        {
          "output_type": "stream",
          "name": "stdout",
          "text": [
            "\u001b[?25l   \u001b[90m━━━━━━━━━━━━━━━━━━━━━━━━━━━━━━━━━━━━━━━━\u001b[0m \u001b[32m0.0/6.4 MB\u001b[0m \u001b[31m?\u001b[0m eta \u001b[36m-:--:--\u001b[0m\r\u001b[2K   \u001b[91m━━━━━━━━━━━━━━━━━━━━━━━━━━━━\u001b[0m\u001b[91m╸\u001b[0m\u001b[90m━━━━━━━━━━━\u001b[0m \u001b[32m4.6/6.4 MB\u001b[0m \u001b[31m142.2 MB/s\u001b[0m eta \u001b[36m0:00:01\u001b[0m\r\u001b[2K   \u001b[91m━━━━━━━━━━━━━━━━━━━━━━━━━━━━━━━━━━━━━━━\u001b[0m\u001b[91m╸\u001b[0m \u001b[32m6.4/6.4 MB\u001b[0m \u001b[31m140.1 MB/s\u001b[0m eta \u001b[36m0:00:01\u001b[0m\r\u001b[2K   \u001b[90m━━━━━━━━━━━━━━━━━━━━━━━━━━━━━━━━━━━━━━━━\u001b[0m \u001b[32m6.4/6.4 MB\u001b[0m \u001b[31m79.3 MB/s\u001b[0m eta \u001b[36m0:00:00\u001b[0m\n",
            "\u001b[?25h\u001b[?25l   \u001b[90m━━━━━━━━━━━━━━━━━━━━━━━━━━━━━━━━━━━━━━━━\u001b[0m \u001b[32m0.0/2.4 MB\u001b[0m \u001b[31m?\u001b[0m eta \u001b[36m-:--:--\u001b[0m\r\u001b[2K   \u001b[91m━━━━━━━━━━━━━━━━━━━━━━━━━━━━━━━━━━━━━━━\u001b[0m\u001b[91m╸\u001b[0m \u001b[32m2.4/2.4 MB\u001b[0m \u001b[31m192.0 MB/s\u001b[0m eta \u001b[36m0:00:01\u001b[0m\r\u001b[2K   \u001b[90m━━━━━━━━━━━━━━━━━━━━━━━━━━━━━━━━━━━━━━━━\u001b[0m \u001b[32m2.4/2.4 MB\u001b[0m \u001b[31m57.0 MB/s\u001b[0m eta \u001b[36m0:00:00\u001b[0m\n",
            "\u001b[2K   \u001b[90m━━━━━━━━━━━━━━━━━━━━━━━━━━━━━━━━━━━━━━━━\u001b[0m \u001b[32m302.0/302.0 kB\u001b[0m \u001b[31m20.6 MB/s\u001b[0m eta \u001b[36m0:00:00\u001b[0m\n",
            "\u001b[2K   \u001b[90m━━━━━━━━━━━━━━━━━━━━━━━━━━━━━━━━━━━━━━━━\u001b[0m \u001b[32m3.1/3.1 MB\u001b[0m \u001b[31m69.7 MB/s\u001b[0m eta \u001b[36m0:00:00\u001b[0m\n",
            "\u001b[2K   \u001b[90m━━━━━━━━━━━━━━━━━━━━━━━━━━━━━━━━━━━━━━━━\u001b[0m \u001b[32m49.5/49.5 kB\u001b[0m \u001b[31m3.4 MB/s\u001b[0m eta \u001b[36m0:00:00\u001b[0m\n",
            "\u001b[?25h"
          ]
        }
      ],
      "source": [
        "%pip install --upgrade --quiet  langchain kuzu langchain-community langchain-google-genai neo4j"
      ]
    },
    {
      "cell_type": "code",
      "source": [
        "import kuzu\n",
        "\n",
        "db = kuzu.Database(\"test_db\")\n",
        "conn = kuzu.Connection(db)"
      ],
      "metadata": {
        "id": "YyMM-JF0vhPl"
      },
      "execution_count": null,
      "outputs": []
    },
    {
      "cell_type": "code",
      "source": [
        "conn.execute(\"CREATE NODE TABLE Movie (name STRING, PRIMARY KEY(name))\")\n",
        "conn.execute(\n",
        "    \"CREATE NODE TABLE Person (name STRING, birthDate STRING, PRIMARY KEY(name))\"\n",
        ")\n",
        "conn.execute(\"CREATE REL TABLE ActedIn (FROM Person TO Movie)\")\n",
        "conn.execute(\"CREATE (:Person {name: 'Al Pacino', birthDate: '1940-04-25'})\")\n",
        "conn.execute(\"CREATE (:Person {name: 'Robert De Niro', birthDate: '1943-08-17'})\")\n",
        "conn.execute(\"CREATE (:Movie {name: 'The Godfather'})\")\n",
        "conn.execute(\"CREATE (:Movie {name: 'The Godfather: Part II'})\")\n",
        "conn.execute(\n",
        "    \"CREATE (:Movie {name: 'The Godfather Coda: The Death of Michael Corleone'})\"\n",
        ")\n",
        "conn.execute(\n",
        "    \"MATCH (p:Person), (m:Movie) WHERE p.name = 'Al Pacino' AND m.name = 'The Godfather' CREATE (p)-[:ActedIn]->(m)\"\n",
        ")\n",
        "conn.execute(\n",
        "    \"MATCH (p:Person), (m:Movie) WHERE p.name = 'Al Pacino' AND m.name = 'The Godfather: Part II' CREATE (p)-[:ActedIn]->(m)\"\n",
        ")\n",
        "conn.execute(\n",
        "    \"MATCH (p:Person), (m:Movie) WHERE p.name = 'Al Pacino' AND m.name = 'The Godfather Coda: The Death of Michael Corleone' CREATE (p)-[:ActedIn]->(m)\"\n",
        ")\n",
        "conn.execute(\n",
        "    \"MATCH (p:Person), (m:Movie) WHERE p.name = 'Robert De Niro' AND m.name = 'The Godfather: Part II' CREATE (p)-[:ActedIn]->(m)\"\n",
        ")"
      ],
      "metadata": {
        "colab": {
          "base_uri": "https://localhost:8080/"
        },
        "id": "xW_OXSqvvjFo",
        "outputId": "f0b20810-d021-4b4d-db0d-808bac93c701"
      },
      "execution_count": null,
      "outputs": [
        {
          "output_type": "execute_result",
          "data": {
            "text/plain": [
              "<kuzu.query_result.QueryResult at 0x7db5b2d0f430>"
            ]
          },
          "metadata": {},
          "execution_count": 3
        }
      ]
    },
    {
      "cell_type": "code",
      "source": [
        "from langchain.chains import KuzuQAChain\n",
        "from langchain_community.graphs import KuzuGraph\n",
        "from langchain_google_genai import GoogleGenerativeAI"
      ],
      "metadata": {
        "id": "S5URquRLvjWv"
      },
      "execution_count": null,
      "outputs": []
    },
    {
      "cell_type": "code",
      "source": [
        "   !pip list | grep langchain-google-genai"
      ],
      "metadata": {
        "id": "ihIYDsx7vjlY"
      },
      "execution_count": null,
      "outputs": []
    },
    {
      "cell_type": "code",
      "source": [
        "   !pip install --upgrade langchain-google-genai"
      ],
      "metadata": {
        "colab": {
          "base_uri": "https://localhost:8080/"
        },
        "id": "NEmwP9VJvjpW",
        "outputId": "cffbeac5-59db-4f2d-b83a-85c7daf4d44d"
      },
      "execution_count": null,
      "outputs": [
        {
          "output_type": "stream",
          "name": "stdout",
          "text": [
            "Collecting langchain-google-genai\n",
            "  Downloading langchain_google_genai-2.0.5-py3-none-any.whl.metadata (3.6 kB)\n",
            "Requirement already satisfied: google-generativeai<0.9.0,>=0.8.0 in /usr/local/lib/python3.10/dist-packages (from langchain-google-genai) (0.8.3)\n",
            "Requirement already satisfied: langchain-core<0.4,>=0.3.15 in /usr/local/lib/python3.10/dist-packages (from langchain-google-genai) (0.3.19)\n",
            "Requirement already satisfied: pydantic<3,>=2 in /usr/local/lib/python3.10/dist-packages (from langchain-google-genai) (2.9.2)\n",
            "Requirement already satisfied: google-ai-generativelanguage==0.6.10 in /usr/local/lib/python3.10/dist-packages (from google-generativeai<0.9.0,>=0.8.0->langchain-google-genai) (0.6.10)\n",
            "Requirement already satisfied: google-api-core in /usr/local/lib/python3.10/dist-packages (from google-generativeai<0.9.0,>=0.8.0->langchain-google-genai) (2.19.2)\n",
            "Requirement already satisfied: google-api-python-client in /usr/local/lib/python3.10/dist-packages (from google-generativeai<0.9.0,>=0.8.0->langchain-google-genai) (2.151.0)\n",
            "Requirement already satisfied: google-auth>=2.15.0 in /usr/local/lib/python3.10/dist-packages (from google-generativeai<0.9.0,>=0.8.0->langchain-google-genai) (2.27.0)\n",
            "Requirement already satisfied: protobuf in /usr/local/lib/python3.10/dist-packages (from google-generativeai<0.9.0,>=0.8.0->langchain-google-genai) (4.25.5)\n",
            "Requirement already satisfied: tqdm in /usr/local/lib/python3.10/dist-packages (from google-generativeai<0.9.0,>=0.8.0->langchain-google-genai) (4.66.6)\n",
            "Requirement already satisfied: typing-extensions in /usr/local/lib/python3.10/dist-packages (from google-generativeai<0.9.0,>=0.8.0->langchain-google-genai) (4.12.2)\n",
            "Requirement already satisfied: proto-plus<2.0.0dev,>=1.22.3 in /usr/local/lib/python3.10/dist-packages (from google-ai-generativelanguage==0.6.10->google-generativeai<0.9.0,>=0.8.0->langchain-google-genai) (1.25.0)\n",
            "Requirement already satisfied: PyYAML>=5.3 in /usr/local/lib/python3.10/dist-packages (from langchain-core<0.4,>=0.3.15->langchain-google-genai) (6.0.2)\n",
            "Requirement already satisfied: jsonpatch<2.0,>=1.33 in /usr/local/lib/python3.10/dist-packages (from langchain-core<0.4,>=0.3.15->langchain-google-genai) (1.33)\n",
            "Requirement already satisfied: langsmith<0.2.0,>=0.1.125 in /usr/local/lib/python3.10/dist-packages (from langchain-core<0.4,>=0.3.15->langchain-google-genai) (0.1.143)\n",
            "Requirement already satisfied: packaging<25,>=23.2 in /usr/local/lib/python3.10/dist-packages (from langchain-core<0.4,>=0.3.15->langchain-google-genai) (24.2)\n",
            "Requirement already satisfied: tenacity!=8.4.0,<10.0.0,>=8.1.0 in /usr/local/lib/python3.10/dist-packages (from langchain-core<0.4,>=0.3.15->langchain-google-genai) (9.0.0)\n",
            "Requirement already satisfied: annotated-types>=0.6.0 in /usr/local/lib/python3.10/dist-packages (from pydantic<3,>=2->langchain-google-genai) (0.7.0)\n",
            "Requirement already satisfied: pydantic-core==2.23.4 in /usr/local/lib/python3.10/dist-packages (from pydantic<3,>=2->langchain-google-genai) (2.23.4)\n",
            "Requirement already satisfied: googleapis-common-protos<2.0.dev0,>=1.56.2 in /usr/local/lib/python3.10/dist-packages (from google-api-core->google-generativeai<0.9.0,>=0.8.0->langchain-google-genai) (1.66.0)\n",
            "Requirement already satisfied: requests<3.0.0.dev0,>=2.18.0 in /usr/local/lib/python3.10/dist-packages (from google-api-core->google-generativeai<0.9.0,>=0.8.0->langchain-google-genai) (2.32.3)\n",
            "Requirement already satisfied: cachetools<6.0,>=2.0.0 in /usr/local/lib/python3.10/dist-packages (from google-auth>=2.15.0->google-generativeai<0.9.0,>=0.8.0->langchain-google-genai) (5.5.0)\n",
            "Requirement already satisfied: pyasn1-modules>=0.2.1 in /usr/local/lib/python3.10/dist-packages (from google-auth>=2.15.0->google-generativeai<0.9.0,>=0.8.0->langchain-google-genai) (0.4.1)\n",
            "Requirement already satisfied: rsa<5,>=3.1.4 in /usr/local/lib/python3.10/dist-packages (from google-auth>=2.15.0->google-generativeai<0.9.0,>=0.8.0->langchain-google-genai) (4.9)\n",
            "Requirement already satisfied: jsonpointer>=1.9 in /usr/local/lib/python3.10/dist-packages (from jsonpatch<2.0,>=1.33->langchain-core<0.4,>=0.3.15->langchain-google-genai) (3.0.0)\n",
            "Requirement already satisfied: httpx<1,>=0.23.0 in /usr/local/lib/python3.10/dist-packages (from langsmith<0.2.0,>=0.1.125->langchain-core<0.4,>=0.3.15->langchain-google-genai) (0.27.2)\n",
            "Requirement already satisfied: orjson<4.0.0,>=3.9.14 in /usr/local/lib/python3.10/dist-packages (from langsmith<0.2.0,>=0.1.125->langchain-core<0.4,>=0.3.15->langchain-google-genai) (3.10.11)\n",
            "Requirement already satisfied: requests-toolbelt<2.0.0,>=1.0.0 in /usr/local/lib/python3.10/dist-packages (from langsmith<0.2.0,>=0.1.125->langchain-core<0.4,>=0.3.15->langchain-google-genai) (1.0.0)\n",
            "Requirement already satisfied: httplib2<1.dev0,>=0.19.0 in /usr/local/lib/python3.10/dist-packages (from google-api-python-client->google-generativeai<0.9.0,>=0.8.0->langchain-google-genai) (0.22.0)\n",
            "Requirement already satisfied: google-auth-httplib2<1.0.0,>=0.2.0 in /usr/local/lib/python3.10/dist-packages (from google-api-python-client->google-generativeai<0.9.0,>=0.8.0->langchain-google-genai) (0.2.0)\n",
            "Requirement already satisfied: uritemplate<5,>=3.0.1 in /usr/local/lib/python3.10/dist-packages (from google-api-python-client->google-generativeai<0.9.0,>=0.8.0->langchain-google-genai) (4.1.1)\n",
            "Requirement already satisfied: grpcio<2.0dev,>=1.33.2 in /usr/local/lib/python3.10/dist-packages (from google-api-core[grpc]!=2.0.*,!=2.1.*,!=2.10.*,!=2.2.*,!=2.3.*,!=2.4.*,!=2.5.*,!=2.6.*,!=2.7.*,!=2.8.*,!=2.9.*,<3.0.0dev,>=1.34.1->google-ai-generativelanguage==0.6.10->google-generativeai<0.9.0,>=0.8.0->langchain-google-genai) (1.68.0)\n",
            "Requirement already satisfied: grpcio-status<2.0.dev0,>=1.33.2 in /usr/local/lib/python3.10/dist-packages (from google-api-core[grpc]!=2.0.*,!=2.1.*,!=2.10.*,!=2.2.*,!=2.3.*,!=2.4.*,!=2.5.*,!=2.6.*,!=2.7.*,!=2.8.*,!=2.9.*,<3.0.0dev,>=1.34.1->google-ai-generativelanguage==0.6.10->google-generativeai<0.9.0,>=0.8.0->langchain-google-genai) (1.62.3)\n",
            "Requirement already satisfied: pyparsing!=3.0.0,!=3.0.1,!=3.0.2,!=3.0.3,<4,>=2.4.2 in /usr/local/lib/python3.10/dist-packages (from httplib2<1.dev0,>=0.19.0->google-api-python-client->google-generativeai<0.9.0,>=0.8.0->langchain-google-genai) (3.2.0)\n",
            "Requirement already satisfied: anyio in /usr/local/lib/python3.10/dist-packages (from httpx<1,>=0.23.0->langsmith<0.2.0,>=0.1.125->langchain-core<0.4,>=0.3.15->langchain-google-genai) (3.7.1)\n",
            "Requirement already satisfied: certifi in /usr/local/lib/python3.10/dist-packages (from httpx<1,>=0.23.0->langsmith<0.2.0,>=0.1.125->langchain-core<0.4,>=0.3.15->langchain-google-genai) (2024.8.30)\n",
            "Requirement already satisfied: httpcore==1.* in /usr/local/lib/python3.10/dist-packages (from httpx<1,>=0.23.0->langsmith<0.2.0,>=0.1.125->langchain-core<0.4,>=0.3.15->langchain-google-genai) (1.0.7)\n",
            "Requirement already satisfied: idna in /usr/local/lib/python3.10/dist-packages (from httpx<1,>=0.23.0->langsmith<0.2.0,>=0.1.125->langchain-core<0.4,>=0.3.15->langchain-google-genai) (3.10)\n",
            "Requirement already satisfied: sniffio in /usr/local/lib/python3.10/dist-packages (from httpx<1,>=0.23.0->langsmith<0.2.0,>=0.1.125->langchain-core<0.4,>=0.3.15->langchain-google-genai) (1.3.1)\n",
            "Requirement already satisfied: h11<0.15,>=0.13 in /usr/local/lib/python3.10/dist-packages (from httpcore==1.*->httpx<1,>=0.23.0->langsmith<0.2.0,>=0.1.125->langchain-core<0.4,>=0.3.15->langchain-google-genai) (0.14.0)\n",
            "Requirement already satisfied: pyasn1<0.7.0,>=0.4.6 in /usr/local/lib/python3.10/dist-packages (from pyasn1-modules>=0.2.1->google-auth>=2.15.0->google-generativeai<0.9.0,>=0.8.0->langchain-google-genai) (0.6.1)\n",
            "Requirement already satisfied: charset-normalizer<4,>=2 in /usr/local/lib/python3.10/dist-packages (from requests<3.0.0.dev0,>=2.18.0->google-api-core->google-generativeai<0.9.0,>=0.8.0->langchain-google-genai) (3.4.0)\n",
            "Requirement already satisfied: urllib3<3,>=1.21.1 in /usr/local/lib/python3.10/dist-packages (from requests<3.0.0.dev0,>=2.18.0->google-api-core->google-generativeai<0.9.0,>=0.8.0->langchain-google-genai) (2.2.3)\n",
            "Requirement already satisfied: exceptiongroup in /usr/local/lib/python3.10/dist-packages (from anyio->httpx<1,>=0.23.0->langsmith<0.2.0,>=0.1.125->langchain-core<0.4,>=0.3.15->langchain-google-genai) (1.2.2)\n",
            "Downloading langchain_google_genai-2.0.5-py3-none-any.whl (41 kB)\n",
            "\u001b[?25l   \u001b[90m━━━━━━━━━━━━━━━━━━━━━━━━━━━━━━━━━━━━━━━━\u001b[0m \u001b[32m0.0/41.3 kB\u001b[0m \u001b[31m?\u001b[0m eta \u001b[36m-:--:--\u001b[0m\r\u001b[2K   \u001b[90m━━━━━━━━━━━━━━━━━━━━━━━━━━━━━━━━━━━━━━━━\u001b[0m \u001b[32m41.3/41.3 kB\u001b[0m \u001b[31m2.8 MB/s\u001b[0m eta \u001b[36m0:00:00\u001b[0m\n",
            "\u001b[?25hInstalling collected packages: langchain-google-genai\n",
            "Successfully installed langchain-google-genai-2.0.5\n"
          ]
        }
      ]
    },
    {
      "cell_type": "code",
      "source": [
        "from google.colab import userdata\n",
        "from langchain_google_genai import GoogleGenerativeAI\n",
        "\n",
        "api_key = userdata.get(\"GOOGLE_API_KEY\")\n",
        "llm = GoogleGenerativeAI(model=\"gemini-pro\", google_api_key=api_key)\n",
        "print(\n",
        "  llm.invoke(\n",
        "      \"What are some of the pros and cons of Python as a programming language?\"\n",
        "  )\n",
        ")"
      ],
      "metadata": {
        "colab": {
          "base_uri": "https://localhost:8080/"
        },
        "id": "kxTj_C9yvjjQ",
        "outputId": "58f2c0f2-fe52-41f8-d66d-51e803cfcbfa"
      },
      "execution_count": null,
      "outputs": [
        {
          "output_type": "stream",
          "name": "stdout",
          "text": [
            "**Pros:**\n",
            "\n",
            "* **Versatile:** Python is a general-purpose language that can be used for a wide variety of tasks, including web development, data analysis, machine learning, and scripting.\n",
            "* **Easy to learn:** Python has a simple and straightforward syntax, making it easy to learn for beginners.\n",
            "* **Large community:** Python has a large and active community, which means that there is a wealth of resources available online, including documentation, tutorials, and forums.\n",
            "* **Extensive library support:** Python has a large number of libraries available, which can be used to extend the functionality of the language.\n",
            "* **Open source:** Python is open source, which means that it is free to use and modify.\n",
            "\n",
            "**Cons:**\n",
            "\n",
            "* **Slow:** Python is a dynamically typed language, which means that it does not check the types of variables until runtime. This can make Python slower than statically typed languages, such as Java or C++.\n",
            "* **Memory intensive:** Python is a memory-intensive language, which means that it can require a lot of memory to run.\n",
            "* **Not suitable for all tasks:** Python is not suitable for all tasks, such as real-time systems or embedded systems.\n",
            "* **Can be difficult to debug:** Python can be difficult to debug, especially for beginners.\n",
            "* **Lack of support from some platforms:** Python is not supported by all platforms, such as some embedded systems.\n"
          ]
        }
      ]
    },
    {
      "cell_type": "code",
      "source": [
        "graph = KuzuGraph(db)\n",
        "chain = KuzuQAChain.from_llm(llm, graph=graph, verbose=True, allow_dangerous_requests=True)"
      ],
      "metadata": {
        "id": "PEawTh-ovjvc"
      },
      "execution_count": null,
      "outputs": []
    },
    {
      "cell_type": "code",
      "source": [
        "chain = KuzuQAChain.from_llm(\n",
        "  llm,\n",
        "  graph=graph,\n",
        "  verbose=True,\n",
        "  allow_dangerous_requests=True,\n",
        "  top_k=10  # Limit results\n",
        ")\n",
        "\n"
      ],
      "metadata": {
        "id": "lf4DNB4sIqt2"
      },
      "execution_count": null,
      "outputs": []
    },
    {
      "cell_type": "code",
      "source": [
        "try:\n",
        "  result = conn.execute(\"\"\"\n",
        "      MATCH (p:Person)-[:ActedIn]->(m:Movie)\n",
        "      WHERE p.name = 'Al Pacino'\n",
        "      RETURN m.name;\n",
        "  \"\"\")\n",
        "  print(\"Direct query results:\")\n",
        "  for row in result:\n",
        "      print(row)\n",
        "except Exception as e:\n",
        "  print(\"Error in direct query:\", e)"
      ],
      "metadata": {
        "colab": {
          "base_uri": "https://localhost:8080/"
        },
        "id": "EIjIpTM2JBcr",
        "outputId": "5114f4d8-2255-4cba-b5c2-5fdc464ba897"
      },
      "execution_count": null,
      "outputs": [
        {
          "output_type": "stream",
          "name": "stdout",
          "text": [
            "Error in direct query: Binder exception: Table Person does not exist.\n"
          ]
        }
      ]
    },
    {
      "cell_type": "code",
      "source": [
        "chain = KuzuQAChain.from_llm(\n",
        "  llm,\n",
        "  graph=graph,\n",
        "  verbose=True,\n",
        "  allow_dangerous_requests=True,\n",
        "  custom_query_template=\"\"\"\n",
        "  MATCH (p:Person)-[:ActedIn]->(m:Movie)\n",
        "  WHERE p.name = '{person_name}'\n",
        "  RETURN m.name;\n",
        "  \"\"\"\n",
        ")"
      ],
      "metadata": {
        "id": "BSCJellSKIGV"
      },
      "execution_count": null,
      "outputs": []
    },
    {
      "cell_type": "code",
      "source": [
        "try:\n",
        "  response = chain.run(\"What movies did Al Pacino act in?\")\n",
        "  print(\"\\nChain response:\")\n",
        "  print(response)\n",
        "except Exception as e:\n",
        "  print(\"Error in chain:\", e)"
      ],
      "metadata": {
        "colab": {
          "base_uri": "https://localhost:8080/"
        },
        "id": "Zsb9WG2NKO6R",
        "outputId": "1deec5d3-a673-4a0d-e196-3ef9fa617530"
      },
      "execution_count": null,
      "outputs": [
        {
          "output_type": "stream",
          "name": "stdout",
          "text": [
            "\n",
            "\n",
            "\u001b[1m> Entering new KuzuQAChain chain...\u001b[0m\n",
            "Generated Cypher:\n",
            "\u001b[32;1m\u001b[1;3m()-[:ACTED_IN]->(movie) WHERE movie.name = \"Al Pacino\"\u001b[0m\n",
            "Error in chain: Parser exception: mismatched input '(' expecting {ALTER, ATTACH, BEGIN, CALL, CHECKPOINT, COMMENT, COMMIT, COPY, CREATE, DELETE, DETACH, DROP, EXPLAIN, EXPORT, IMPORT, INSTALL, LOAD, MATCH, MERGE, OPTIONAL, PROFILE, PROJECT, RETURN, ROLLBACK, SET, UNWIND, USE, WITH, SP} (line: 1, offset: 0)\n",
            "\"()-[:ACTED_IN]->(movie) WHERE movie.name = \"Al Pacino\"\"\n",
            " ^\n"
          ]
        }
      ]
    },
    {
      "cell_type": "code",
      "source": [
        "# Let's try a simple MATCH query to see all Person nodes\n",
        "try:\n",
        "  result = conn.execute(\"\"\"\n",
        "      MATCH (p:Person)\n",
        "      RETURN p.name, p.birthDate\n",
        "  \"\"\")\n",
        "  print(\"People in database:\")\n",
        "  for row in result:\n",
        "      print(row)\n",
        "except Exception as e:\n",
        "  print(\"Error querying persons:\", e)\n",
        "\n",
        "# Let's see all Movies\n",
        "try:\n",
        "  result = conn.execute(\"\"\"\n",
        "      MATCH (m:Movie)\n",
        "      RETURN m.name\n",
        "  \"\"\")\n",
        "  print(\"\\nMovies in database:\")\n",
        "  for row in result:\n",
        "      print(row)\n",
        "except Exception as e:\n",
        "  print(\"Error querying movies:\", e)\n",
        "\n",
        "# Let's see all ActedIn relationships\n",
        "try:\n",
        "  result = conn.execute(\"\"\"\n",
        "      MATCH (p:Person)-[:ActedIn]->(m:Movie)\n",
        "      RETURN p.name, m.name\n",
        "  \"\"\")\n",
        "  print(\"\\nActing relationships:\")\n",
        "  for row in result:\n",
        "      print(row)\n",
        "except Exception as e:\n",
        "  print(\"Error querying relationships:\", e)"
      ],
      "metadata": {
        "colab": {
          "base_uri": "https://localhost:8080/"
        },
        "id": "DSzhLp0iKlYu",
        "outputId": "ae5b9d89-170b-42eb-f6e4-1aabdcb46060"
      },
      "execution_count": null,
      "outputs": [
        {
          "output_type": "stream",
          "name": "stdout",
          "text": [
            "Error querying persons: Binder exception: Table Person does not exist.\n",
            "Error querying movies: Binder exception: Table Movie does not exist.\n",
            "Error querying relationships: Binder exception: Table Person does not exist.\n"
          ]
        }
      ]
    },
    {
      "cell_type": "code",
      "source": [
        "# First, let's create the database and connection again\n",
        "db = kuzu.Database(\"test_db\")\n",
        "conn = kuzu.Connection(db)\n",
        "\n",
        "# Create the schema\n",
        "try:\n",
        "  # Create Person table\n",
        "  conn.execute(\"CREATE NODE TABLE Person (name STRING, birthDate STRING, PRIMARY KEY(name))\")\n",
        "  print(\"Person table created successfully\")\n",
        "\n",
        "  # Create Movie table\n",
        "  conn.execute(\"CREATE NODE TABLE Movie (name STRING, PRIMARY KEY(name))\")\n",
        "  print(\"Movie table created successfully\")\n",
        "\n",
        "  # Create ActedIn relationship\n",
        "  conn.execute(\"CREATE REL TABLE ActedIn (FROM Person TO Movie)\")\n",
        "  print(\"ActedIn relationship created successfully\")\n",
        "\n",
        "  # Insert People\n",
        "  conn.execute(\"CREATE (:Person {name: 'Al Pacino', birthDate: '1940-04-25'})\")\n",
        "  conn.execute(\"CREATE (:Person {name: 'Robert De Niro', birthDate: '1943-08-17'})\")\n",
        "  print(\"People inserted successfully\")\n",
        "\n",
        "  # Insert Movies\n",
        "  conn.execute(\"CREATE (:Movie {name: 'The Godfather'})\")\n",
        "  conn.execute(\"CREATE (:Movie {name: 'The Godfather: Part II'})\")\n",
        "  conn.execute(\"CREATE (:Movie {name: 'The Godfather Coda: The Death of Michael Corleone'})\")\n",
        "  print(\"Movies inserted successfully\")\n",
        "\n",
        "  # Create relationships\n",
        "  conn.execute(\"\"\"\n",
        "      MATCH (p:Person), (m:Movie)\n",
        "      WHERE p.name = 'Al Pacino' AND m.name = 'The Godfather'\n",
        "      CREATE (p)-[:ActedIn]->(m)\n",
        "  \"\"\")\n",
        "  conn.execute(\"\"\"\n",
        "      MATCH (p:Person), (m:Movie)\n",
        "      WHERE p.name = 'Al Pacino' AND m.name = 'The Godfather: Part II'\n",
        "      CREATE (p)-[:ActedIn]->(m)\n",
        "  \"\"\")\n",
        "  conn.execute(\"\"\"\n",
        "      MATCH (p:Person), (m:Movie)\n",
        "      WHERE p.name = 'Al Pacino' AND m.name = 'The Godfather Coda: The Death of Michael Corleone'\n",
        "      CREATE (p)-[:ActedIn]->(m)\n",
        "  \"\"\")\n",
        "  conn.execute(\"\"\"\n",
        "      MATCH (p:Person), (m:Movie)\n",
        "      WHERE p.name = 'Robert De Niro' AND m.name = 'The Godfather: Part II'\n",
        "      CREATE (p)-[:ActedIn]->(m)\n",
        "  \"\"\")\n",
        "  print(\"Relationships created successfully\")\n",
        "\n",
        "  # Verify the data\n",
        "  print(\"\\nVerifying data:\")\n",
        "  result = conn.execute(\"MATCH (p:Person) RETURN p.name, p.birthDate\")\n",
        "  print(\"\\nPeople in database:\")\n",
        "  for row in result:\n",
        "      print(row)\n",
        "\n",
        "  result = conn.execute(\"MATCH (m:Movie) RETURN m.name\")\n",
        "  print(\"\\nMovies in database:\")\n",
        "  for row in result:\n",
        "      print(row)\n",
        "\n",
        "  result = conn.execute(\"MATCH (p:Person)-[:ActedIn]->(m:Movie) RETURN p.name, m.name\")\n",
        "  print(\"\\nActing relationships:\")\n",
        "  for row in result:\n",
        "      print(row)\n",
        "\n",
        "except Exception as e:\n",
        "  print(f\"Error occurred: {e}\")"
      ],
      "metadata": {
        "colab": {
          "base_uri": "https://localhost:8080/"
        },
        "id": "yWn-T2iDLgvT",
        "outputId": "dfce71fb-ca93-49a8-ea7e-58784d406815"
      },
      "execution_count": null,
      "outputs": [
        {
          "output_type": "stream",
          "name": "stdout",
          "text": [
            "Person table created successfully\n",
            "Movie table created successfully\n",
            "ActedIn relationship created successfully\n",
            "People inserted successfully\n",
            "Movies inserted successfully\n",
            "Relationships created successfully\n",
            "\n",
            "Verifying data:\n",
            "\n",
            "People in database:\n",
            "Error occurred: 'QueryResult' object is not iterable\n"
          ]
        }
      ]
    },
    {
      "cell_type": "code",
      "source": [
        "# Verify the data with proper result handling\n",
        "print(\"\\nVerifying data:\")\n",
        "\n",
        "try:\n",
        "  # Check People\n",
        "  print(\"\\nPeople in database:\")\n",
        "  result = conn.execute(\"MATCH (p:Person) RETURN p.name, p.birthDate\")\n",
        "  while result.has_next():\n",
        "      row = result.get_next()\n",
        "      print(row)\n",
        "\n",
        "  # Check Movies\n",
        "  print(\"\\nMovies in database:\")\n",
        "  result = conn.execute(\"MATCH (m:Movie) RETURN m.name\")\n",
        "  while result.has_next():\n",
        "      row = result.get_next()\n",
        "      print(row)\n",
        "\n",
        "  # Check Relationships\n",
        "  print(\"\\nActing relationships:\")\n",
        "  result = conn.execute(\"MATCH (p:Person)-[:ActedIn]->(m:Movie) RETURN p.name, m.name\")\n",
        "  while result.has_next():\n",
        "      row = result.get_next()\n",
        "      print(row)\n",
        "\n",
        "except Exception as e:\n",
        "  print(f\"Error occurred: {e}\")"
      ],
      "metadata": {
        "colab": {
          "base_uri": "https://localhost:8080/"
        },
        "id": "EQcErpdiL2F4",
        "outputId": "6f89be98-247d-457c-ea71-ebecec8ece40"
      },
      "execution_count": null,
      "outputs": [
        {
          "output_type": "stream",
          "name": "stdout",
          "text": [
            "\n",
            "Verifying data:\n",
            "\n",
            "People in database:\n",
            "['Al Pacino', '1940-04-25']\n",
            "['Robert De Niro', '1943-08-17']\n",
            "\n",
            "Movies in database:\n",
            "['The Godfather']\n",
            "['The Godfather: Part II']\n",
            "['The Godfather Coda: The Death of Michael Corleone']\n",
            "\n",
            "Acting relationships:\n",
            "['Al Pacino', 'The Godfather']\n",
            "['Al Pacino', 'The Godfather: Part II']\n",
            "['Al Pacino', 'The Godfather Coda: The Death of Michael Corleone']\n",
            "['Robert De Niro', 'The Godfather: Part II']\n"
          ]
        }
      ]
    },
    {
      "cell_type": "code",
      "source": [
        "# Recreate the graph and chain with the verified database\n",
        "graph = KuzuGraph(db)\n",
        "chain = KuzuQAChain.from_llm(\n",
        "  llm,\n",
        "  graph=graph,\n",
        "  verbose=True,\n",
        "  allow_dangerous_requests=True\n",
        ")\n",
        "\n",
        "# Try some example questions\n",
        "try:\n",
        "  print(\"\\nQuery 1: Movies Al Pacino acted in:\")\n",
        "  response = chain.run(\"What movies did Al Pacino act in?\")\n",
        "  print(response)\n",
        "\n",
        "  print(\"\\nQuery 2: Actors in Godfather Part II:\")\n",
        "  response = chain.run(\"Who acted in 'The Godfather: Part II'?\")\n",
        "  print(response)\n",
        "\n",
        "except Exception as e:\n",
        "  print(f\"Error in chain: {e}\")\n",
        "  # If we get an error, let's try a direct query\n",
        "  print(\"\\nTrying direct query:\")\n",
        "  result = conn.execute(\"\"\"\n",
        "      MATCH (p:Person)-[:ActedIn]->(m:Movie)\n",
        "      WHERE p.name = 'Al Pacino'\n",
        "      RETURN m.name\n",
        "  \"\"\")\n",
        "  while result.has_next():\n",
        "      print(result.get_next())"
      ],
      "metadata": {
        "colab": {
          "base_uri": "https://localhost:8080/"
        },
        "id": "DEn2Y-ZbMTeo",
        "outputId": "8b0abf1c-219a-486c-a246-a200de45627f"
      },
      "execution_count": null,
      "outputs": [
        {
          "output_type": "stream",
          "name": "stdout",
          "text": [
            "\n",
            "Query 1: Movies Al Pacino acted in:\n",
            "\n",
            "\n",
            "\u001b[1m> Entering new KuzuQAChain chain...\u001b[0m\n",
            "Generated Cypher:\n",
            "\u001b[32;1m\u001b[1;3m(:Person{name: \"Al Pacino\"})-[:ActedIn]->(:Movie)\u001b[0m\n",
            "Error in chain: Parser exception: mismatched input '(' expecting {ALTER, ATTACH, BEGIN, CALL, CHECKPOINT, COMMENT, COMMIT, COPY, CREATE, DELETE, DETACH, DROP, EXPLAIN, EXPORT, IMPORT, INSTALL, LOAD, MATCH, MERGE, OPTIONAL, PROFILE, PROJECT, RETURN, ROLLBACK, SET, UNWIND, USE, WITH, SP} (line: 1, offset: 0)\n",
            "\"(:Person{name: \"Al Pacino\"})-[:ActedIn]->(:Movie)\"\n",
            " ^\n",
            "\n",
            "Trying direct query:\n",
            "['The Godfather']\n",
            "['The Godfather: Part II']\n",
            "['The Godfather Coda: The Death of Michael Corleone']\n"
          ]
        }
      ]
    },
    {
      "cell_type": "code",
      "source": [
        "from langchain.prompts import PromptTemplate\n",
        "from langchain.chains import LLMChain\n",
        "\n",
        "# Create a custom prompt template that generates Kuzu-compatible queries\n",
        "kuzu_prompt = PromptTemplate(\n",
        "  input_variables=[\"question\"],\n",
        "  template=\"\"\"Given this question: {question}\n",
        "  Generate a Kuzu query using this syntax:\n",
        "  MATCH (node_label:Type) WHERE condition RETURN values\n",
        "\n",
        "  For example:\n",
        "  - For finding movies by actor: MATCH (p:Person)-[:ActedIn]->(m:Movie) WHERE p.name = 'Actor Name' RETURN m.name\n",
        "  - For finding actors in a movie: MATCH (p:Person)-[:ActedIn]->(m:Movie) WHERE m.name = 'Movie Name' RETURN p.name\n",
        "\n",
        "  Generate only the query, no explanation:\"\"\"\n",
        ")\n",
        "\n",
        "# Create a chain that generates Kuzu queries\n",
        "query_chain = LLMChain(llm=llm, prompt=kuzu_prompt)\n",
        "\n",
        "def execute_query(question):\n",
        "  try:\n",
        "      # Generate the query\n",
        "      query = query_chain.run(question)\n",
        "      print(f\"Generated query: {query}\")\n",
        "\n",
        "      # Execute the query\n",
        "      result = conn.execute(query)\n",
        "\n",
        "      # Collect results\n",
        "      answers = []\n",
        "      while result.has_next():\n",
        "          answers.append(result.get_next())\n",
        "\n",
        "      return answers\n",
        "  except Exception as e:\n",
        "      print(f\"Error: {e}\")\n",
        "      return None\n",
        "\n",
        "# Test the new approach\n",
        "questions = [\n",
        "  \"What movies did Al Pacino act in?\",\n",
        "  \"Who acted in 'The Godfather: Part II'?\",\n",
        "  \"When was Al Pacino born?\"\n",
        "]\n",
        "\n",
        "for question in questions:\n",
        "  print(f\"\\nQuestion: {question}\")\n",
        "  results = execute_query(question)\n",
        "  if results:\n",
        "      print(\"Results:\")\n",
        "      for result in results:\n",
        "          print(result)"
      ],
      "metadata": {
        "colab": {
          "base_uri": "https://localhost:8080/"
        },
        "id": "_bgzCuyUM7sq",
        "outputId": "adec303c-30ab-4c3f-a726-d4e294db35a7"
      },
      "execution_count": null,
      "outputs": [
        {
          "output_type": "stream",
          "name": "stderr",
          "text": [
            "<ipython-input-27-3dbf43c2b0e5>:19: LangChainDeprecationWarning: The class `LLMChain` was deprecated in LangChain 0.1.17 and will be removed in 1.0. Use :meth:`~RunnableSequence, e.g., `prompt | llm`` instead.\n",
            "  query_chain = LLMChain(llm=llm, prompt=kuzu_prompt)\n"
          ]
        },
        {
          "output_type": "stream",
          "name": "stdout",
          "text": [
            "\n",
            "Question: What movies did Al Pacino act in?\n",
            "Generated query: MATCH (m:Movie)-[:ActedIn]->(p:Person) WHERE p.name = 'Al Pacino' RETURN m.name\n",
            "\n",
            "Question: Who acted in 'The Godfather: Part II'?\n",
            "Generated query: MATCH (p:Person)-[:ActedIn]->(m:Movie) WHERE m.title = 'The Godfather: Part II' RETURN p.name\n",
            "Error: Binder exception: Cannot find property title for m.\n",
            "\n",
            "Question: When was Al Pacino born?\n",
            "Generated query: MATCH (p:Person) WHERE p.name = 'Al Pacino' RETURN p.birthDate\n",
            "Results:\n",
            "['1940-04-25']\n"
          ]
        }
      ]
    },
    {
      "cell_type": "code",
      "source": [
        "from langchain.prompts import PromptTemplate\n",
        "from warnings import filterwarnings\n",
        "\n",
        "\n",
        "# Updated prompt template with more specific examples and correct property names\n",
        "kuzu_prompt = PromptTemplate(\n",
        "  input_variables=[\"question\"],\n",
        "  template=\"\"\"Given this question: {question}\n",
        "  Generate a Kuzu query using exactly this syntax and these property names:\n",
        "  - Person properties: name, birthDate\n",
        "  - Movie properties: name (not title)\n",
        "  - Relationship: ActedIn (from Person TO Movie)\n",
        "\n",
        "  Examples:\n",
        "  - For movies by actor: MATCH (p:Person)-[:ActedIn]->(m:Movie) WHERE p.name = 'Actor Name' RETURN m.name\n",
        "  - For actors in movie: MATCH (p:Person)-[:ActedIn]->(m:Movie) WHERE m.name = 'Movie Name' RETURN p.name\n",
        "  - For birth date: MATCH (p:Person) WHERE p.name = 'Actor Name' RETURN p.birthDate\n",
        "\n",
        "  Generate only the query, no explanation:\"\"\"\n",
        ")\n",
        "\n",
        "query_chain = LLMChain(llm=llm, prompt=kuzu_prompt)\n",
        "\n",
        "def execute_query(question):\n",
        "  try:\n",
        "      # Generate the query\n",
        "      query = query_chain.run(question).strip()\n",
        "      print(f\"Generated query: {query}\")\n",
        "\n",
        "      # Execute the query\n",
        "      result = conn.execute(query)\n",
        "\n",
        "      # Collect and format results\n",
        "      answers = []\n",
        "      while result.has_next():\n",
        "          answers.append(result.get_next())\n",
        "\n",
        "      return answers\n",
        "  except Exception as e:\n",
        "      print(f\"Error: {e}\")\n",
        "      return None\n",
        "\n",
        "# Test with the same questions\n",
        "questions = [\n",
        "  \"What movies did Al Pacino act in?\",\n",
        "  \"Who acted in 'The Godfather: Part II'?\",\n",
        "  \"When was Al Pacino born?\"\n",
        "]\n",
        "\n",
        "for question in questions:\n",
        "  print(f\"\\nQuestion: {question}\")\n",
        "  results = execute_query(question)\n",
        "  if results:\n",
        "      print(\"Results:\")\n",
        "      for result in results:\n",
        "          print(result)"
      ],
      "metadata": {
        "colab": {
          "base_uri": "https://localhost:8080/"
        },
        "id": "TFhYgNiLNixi",
        "outputId": "bd625919-38fb-4167-c9c6-30528b70859e"
      },
      "execution_count": null,
      "outputs": [
        {
          "output_type": "stream",
          "name": "stdout",
          "text": [
            "\n",
            "Question: What movies did Al Pacino act in?\n",
            "Generated query: MATCH (p:Person)-[:ActedIn]->(m:Movie) WHERE p.name = 'Al Pacino' RETURN m.name\n",
            "Results:\n",
            "['The Godfather']\n",
            "['The Godfather: Part II']\n",
            "['The Godfather Coda: The Death of Michael Corleone']\n",
            "\n",
            "Question: Who acted in 'The Godfather: Part II'?\n",
            "Generated query: MATCH (p:Person)-[:ActedIn]->(m:Movie) WHERE m.name = 'The Godfather: Part II' RETURN p.name\n",
            "Results:\n",
            "['Al Pacino']\n",
            "['Robert De Niro']\n",
            "\n",
            "Question: When was Al Pacino born?\n",
            "Generated query: MATCH (p:Person) WHERE p.name = 'Al Pacino' RETURN p.birthDate\n",
            "Results:\n",
            "['1940-04-25']\n"
          ]
        }
      ]
    },
    {
      "cell_type": "code",
      "source": [
        "from langchain.prompts import PromptTemplate\n",
        "from langchain_core.runnables import RunnablePassthrough\n",
        "\n",
        "# Create the prompt template\n",
        "kuzu_prompt = PromptTemplate(\n",
        "  input_variables=[\"question\"],\n",
        "  template=\"\"\"Given this question: {question}\n",
        "  Generate a Kuzu query using exactly this syntax and these property names:\n",
        "  - Person properties: name, birthDate\n",
        "  - Movie properties: name (not title)\n",
        "  - Relationship: ActedIn (from Person TO Movie)\n",
        "\n",
        "  Examples:\n",
        "  - For movies by actor: MATCH (p:Person)-[:ActedIn]->(m:Movie) WHERE p.name = 'Actor Name' RETURN m.name\n",
        "  - For actors in movie: MATCH (p:Person)-[:ActedIn]->(m:Movie) WHERE m.name = 'Movie Name' RETURN p.name\n",
        "  - For birth date: MATCH (p:Person) WHERE p.name = 'Actor Name' RETURN p.birthDate\n",
        "\n",
        "  Generate only the query, no explanation:\"\"\"\n",
        ")\n",
        "\n",
        "# Create the chain using the new syntax\n",
        "chain = {\"question\": RunnablePassthrough()} | kuzu_prompt | llm\n",
        "\n",
        "def execute_query(question):\n",
        "  try:\n",
        "      # Generate the query\n",
        "      query = chain.invoke(question).strip()\n",
        "      print(f\"Generated query: {query}\")\n",
        "\n",
        "      # Execute the query\n",
        "      result = conn.execute(query)\n",
        "\n",
        "      # Collect and format results\n",
        "      answers = []\n",
        "      while result.has_next():\n",
        "          answers.append(result.get_next())\n",
        "\n",
        "      return answers\n",
        "  except Exception as e:\n",
        "      print(f\"Error: {e}\")\n",
        "      return None\n",
        "\n",
        "# Let's try some more complex questions\n",
        "questions = [\n",
        "  \"What movies did Al Pacino act in?\",\n",
        "  \"Who acted in 'The Godfather: Part II'?\",\n",
        "  \"When was Al Pacino born?\",\n",
        "  \"Which actors appeared in movies released after 1974?\"\n",
        "]\n",
        "\n",
        "for question in questions:\n",
        "  print(f\"\\nQuestion: {question}\")\n",
        "  results = execute_query(question)\n",
        "  if results:\n",
        "      print(\"Results:\")\n",
        "      for result in results:\n",
        "          print(result)"
      ],
      "metadata": {
        "colab": {
          "base_uri": "https://localhost:8080/"
        },
        "id": "u5PIDaMmOpbh",
        "outputId": "c3a9da5c-b514-48c1-fee0-3493ebfe9896"
      },
      "execution_count": null,
      "outputs": [
        {
          "output_type": "stream",
          "name": "stdout",
          "text": [
            "\n",
            "Question: What movies did Al Pacino act in?\n",
            "Generated query: MATCH (p:Person)-[:ActedIn]->(m:Movie) WHERE p.name = 'Al Pacino' RETURN m.name\n",
            "Results:\n",
            "['The Godfather']\n",
            "['The Godfather: Part II']\n",
            "['The Godfather Coda: The Death of Michael Corleone']\n",
            "\n",
            "Question: Who acted in 'The Godfather: Part II'?\n",
            "Generated query: MATCH (p:Person)-[:ActedIn]->(m:Movie) WHERE m.name = 'The Godfather: Part II' RETURN p.name\n",
            "Results:\n",
            "['Al Pacino']\n",
            "['Robert De Niro']\n",
            "\n",
            "Question: When was Al Pacino born?\n",
            "Generated query: MATCH (p:Person) WHERE p.name = 'Al Pacino' RETURN p.birthDate\n",
            "Results:\n",
            "['1940-04-25']\n",
            "\n",
            "Question: Which actors appeared in movies released after 1974?\n",
            "Generated query: MATCH (p:Person)-[:ActedIn]->(m:Movie) WHERE p.birthDate > 1974 RETURN p.name\n"
          ]
        }
      ]
    },
    {
      "cell_type": "code",
      "source": [],
      "metadata": {
        "id": "i9hIK1tqOqzg"
      },
      "execution_count": null,
      "outputs": []
    }
  ]
}