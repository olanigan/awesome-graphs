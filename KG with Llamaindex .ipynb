{
 "cells": [
  {
   "cell_type": "code",
   "execution_count": 1,
   "id": "f8e17a5c",
   "metadata": {},
   "outputs": [],
   "source": [
    "from llama_index import VectorStoreIndex\n",
    "from neo4j import GraphDatabase\n"
   ]
  },
  {
   "cell_type": "code",
   "execution_count": 2,
   "id": "02967c23",
   "metadata": {},
   "outputs": [
    {
     "name": "stdout",
     "output_type": "stream",
     "text": [
      "Basic imports successful\n"
     ]
    }
   ],
   "source": [
    "print(\"Basic imports successful\")"
   ]
  },
  {
   "cell_type": "code",
   "execution_count": 28,
   "id": "66b2b5f4",
   "metadata": {},
   "outputs": [],
   "source": [
    "uri = \"bolt://localhost:7687\"\n",
    "username = \"neo4j\"\n",
    "password = \"password1234\""
   ]
  },
  {
   "cell_type": "code",
   "execution_count": 12,
   "id": "3b7af9ea",
   "metadata": {},
   "outputs": [],
   "source": [
    "def test_connection():\n",
    "  print(\"Connection Details:\")\n",
    "  print(f\"URI: {uri}\")\n",
    "  print(f\"Username: {username}\")\n",
    "\n",
    "  try:\n",
    "      driver = GraphDatabase.driver(uri, auth=(username, password))\n",
    "      print(\"\\nTesting connection...\")\n",
    "\n",
    "      # Verify connectivity\n",
    "      driver.verify_connectivity()\n",
    "      print(\"✓ Connection verified!\")\n",
    "\n",
    "      # Test simple query\n",
    "      with driver.session() as session:\n",
    "          result = session.run(\"RETURN 'Connected!' as message\")\n",
    "          print(f\"✓ Query result: {result.single()['message']}\")\n",
    "\n",
    "      return True\n",
    "\n",
    "  except Exception as e:\n",
    "      print(\"\\n✗ Connection Error:\")\n",
    "      print(f\"Type: {type(e).__name__}\")\n",
    "      print(f\"Message: {str(e)}\")\n",
    "      return False\n",
    "\n",
    "  finally:\n",
    "      try:\n",
    "          driver.close()\n",
    "          print(\"Connection closed\")\n",
    "      except:\n",
    "          pass"
   ]
  },
  {
   "cell_type": "code",
   "execution_count": 13,
   "id": "cee361e1",
   "metadata": {},
   "outputs": [
    {
     "name": "stdout",
     "output_type": "stream",
     "text": [
      "Connection Details:\n",
      "URI: bolt://localhost:7687\n",
      "Username: neo4j\n",
      "\n",
      "Testing connection...\n",
      "✓ Connection verified!\n",
      "✓ Query result: Connected!\n",
      "Connection closed\n"
     ]
    },
    {
     "data": {
      "text/plain": [
       "True"
      ]
     },
     "execution_count": 13,
     "metadata": {},
     "output_type": "execute_result"
    }
   ],
   "source": [
    "test_connection()"
   ]
  },
  {
   "cell_type": "code",
   "execution_count": 29,
   "id": "d3883327",
   "metadata": {},
   "outputs": [],
   "source": [
    "def create_test_nodes():\n",
    "  driver = GraphDatabase.driver(uri, auth=(username, password))\n",
    "\n",
    "  try:\n",
    "      with driver.session() as session:\n",
    "          # Create a test node\n",
    "          result = session.run(\"\"\"\n",
    "              CREATE (n:Test {name: 'Test Node'})\n",
    "              RETURN n.name as name\n",
    "          \"\"\")\n",
    "          print(f\"Created node: {result.single()['name']}\")\n",
    "\n",
    "          # Count all nodes\n",
    "          result = session.run(\"MATCH (n) RETURN count(n) as count\")\n",
    "          print(f\"Total nodes in database: {result.single()['count']}\")\n",
    "\n",
    "  finally:\n",
    "      driver.close()\n"
   ]
  },
  {
   "cell_type": "code",
   "execution_count": 30,
   "id": "cc965392",
   "metadata": {},
   "outputs": [
    {
     "name": "stdout",
     "output_type": "stream",
     "text": [
      "Created node: Test Node\n",
      "Total nodes in database: 9\n"
     ]
    }
   ],
   "source": [
    "# Test creating nodes\n",
    "create_test_nodes()"
   ]
  },
  {
   "cell_type": "code",
   "execution_count": 31,
   "id": "064c3682",
   "metadata": {},
   "outputs": [],
   "source": [
    "def create_healthcare_schema():\n",
    "  driver = GraphDatabase.driver(uri, auth=(username, password))\n",
    "\n",
    "  try:\n",
    "      with driver.session() as session:\n",
    "          # First, let's clear existing data\n",
    "          session.run(\"MATCH (n) DETACH DELETE n\")\n",
    "\n",
    "          # Create constraints for unique IDs\n",
    "          session.run(\"CREATE CONSTRAINT patient_id IF NOT EXISTS FOR (p:Patient) REQUIRE p.id IS UNIQUE\")\n",
    "          session.run(\"CREATE CONSTRAINT doctor_id IF NOT EXISTS FOR (d:Doctor) REQUIRE d.id IS UNIQUE\")\n",
    "\n",
    "          # Create some sample data\n",
    "          session.run(\"\"\"\n",
    "              // Create Doctors\n",
    "              CREATE (d1:Doctor {id: 'D001', name: 'Dr. Smith', specialty: 'Cardiology'})\n",
    "              CREATE (d2:Doctor {id: 'D002', name: 'Dr. Jones', specialty: 'Neurology'})\n",
    "\n",
    "              // Create Patients\n",
    "              CREATE (p1:Patient {id: 'P001', name: 'John Doe', age: 45, gender: 'M'})\n",
    "              CREATE (p2:Patient {id: 'P002', name: 'Jane Smith', age: 32, gender: 'F'})\n",
    "\n",
    "              // Create Conditions\n",
    "              CREATE (c1:Condition {name: 'Hypertension', icd10: 'I10'})\n",
    "              CREATE (c2:Condition {name: 'Diabetes', icd10: 'E11'})\n",
    "\n",
    "              // Create Medications\n",
    "              CREATE (m1:Medication {name: 'Lisinopril', dosage: '10mg'})\n",
    "              CREATE (m2:Medication {name: 'Metformin', dosage: '500mg'})\n",
    "\n",
    "              // Create Relationships\n",
    "              CREATE (p1)-[:DIAGNOSED_WITH {date: '2023-01-15'}]->(c1)\n",
    "              CREATE (p1)-[:PRESCRIBED {date: '2023-01-15'}]->(m1)\n",
    "              CREATE (d1)-[:TREATS]->(p1)\n",
    "              CREATE (p2)-[:DIAGNOSED_WITH {date: '2023-02-20'}]->(c2)\n",
    "              CREATE (p2)-[:PRESCRIBED {date: '2023-02-20'}]->(m2)\n",
    "              CREATE (d2)-[:TREATS]->(p2)\n",
    "          \"\"\")\n",
    "\n",
    "          print(\"Healthcare schema and sample data created successfully!\")\n",
    "\n",
    "  finally:\n",
    "      driver.close()\n",
    "\n",
    "def perform_sample_queries():\n",
    "  driver = GraphDatabase.driver(uri, auth=(username, password))\n",
    "\n",
    "  try:\n",
    "      with driver.session() as session:\n",
    "          # Query 1: Find all patients and their conditions\n",
    "          print(\"\\n1. Patients and their conditions:\")\n",
    "          result = session.run(\"\"\"\n",
    "              MATCH (p:Patient)-[r:DIAGNOSED_WITH]->(c:Condition)\n",
    "              RETURN p.name as Patient, c.name as Condition, r.date as DiagnosisDate\n",
    "          \"\"\")\n",
    "          for record in result:\n",
    "              print(f\"Patient: {record['Patient']} - Condition: {record['Condition']} (Diagnosed: {record['DiagnosisDate']})\")\n",
    "\n",
    "          # Query 2: Find doctors and their patients\n",
    "          print(\"\\n2. Doctors and their patients:\")\n",
    "          result = session.run(\"\"\"\n",
    "              MATCH (d:Doctor)-[:TREATS]->(p:Patient)\n",
    "              RETURN d.name as Doctor, d.specialty as Specialty, collect(p.name) as Patients\n",
    "          \"\"\")\n",
    "          for record in result:\n",
    "              print(f\"Doctor: {record['Doctor']} ({record['Specialty']}) - Patients: {record['Patients']}\")\n",
    "\n",
    "          # Query 3: Medications prescribed to patients\n",
    "          print(\"\\n3. Patient medications:\")\n",
    "          result = session.run(\"\"\"\n",
    "              MATCH (p:Patient)-[:PRESCRIBED]->(m:Medication)\n",
    "              RETURN p.name as Patient, m.name as Medication, m.dosage as Dosage\n",
    "          \"\"\")\n",
    "          for record in result:\n",
    "              print(f\"Patient: {record['Patient']} - Medication: {record['Medication']} ({record['Dosage']})\")\n",
    "\n",
    "  finally:\n",
    "      driver.close()\n"
   ]
  },
  {
   "cell_type": "code",
   "execution_count": 32,
   "id": "caeea4b4",
   "metadata": {},
   "outputs": [
    {
     "name": "stdout",
     "output_type": "stream",
     "text": [
      "Healthcare schema and sample data created successfully!\n"
     ]
    }
   ],
   "source": [
    "create_healthcare_schema()"
   ]
  },
  {
   "cell_type": "code",
   "execution_count": 33,
   "id": "bc09533e",
   "metadata": {},
   "outputs": [
    {
     "name": "stdout",
     "output_type": "stream",
     "text": [
      "\n",
      "1. Patients and their conditions:\n",
      "Patient: John Doe - Condition: Hypertension (Diagnosed: 2023-01-15)\n",
      "Patient: Jane Smith - Condition: Diabetes (Diagnosed: 2023-02-20)\n",
      "\n",
      "2. Doctors and their patients:\n",
      "Doctor: Dr. Smith (Cardiology) - Patients: ['John Doe']\n",
      "Doctor: Dr. Jones (Neurology) - Patients: ['Jane Smith']\n",
      "\n",
      "3. Patient medications:\n",
      "Patient: John Doe - Medication: Lisinopril (10mg)\n",
      "Patient: Jane Smith - Medication: Metformin (500mg)\n"
     ]
    }
   ],
   "source": [
    "perform_sample_queries()"
   ]
  },
  {
   "cell_type": "code",
   "execution_count": 34,
   "id": "5644bd02",
   "metadata": {},
   "outputs": [],
   "source": [
    "def healthcare_qa(question):\n",
    "  driver = GraphDatabase.driver(uri, auth=(username, password))"
   ]
  },
  {
   "cell_type": "code",
   "execution_count": 35,
   "id": "0aeb6c51",
   "metadata": {},
   "outputs": [
    {
     "name": "stdout",
     "output_type": "stream",
     "text": [
      "Connection successful: True\n"
     ]
    }
   ],
   "source": [
    "from neo4j import GraphDatabase\n",
    "\n",
    "uri = \"bolt://localhost:7687\"\n",
    "username = \"neo4j\"\n",
    "password = \"password1234\"  # Replace with your actual password\n",
    "\n",
    "def test_connection():\n",
    "  try:\n",
    "      driver = GraphDatabase.driver(uri, auth=(username, password))\n",
    "      with driver.session() as session:\n",
    "          result = session.run(\"RETURN 1\")\n",
    "          print(\"Connection successful:\", result.single()[0] == 1)\n",
    "  except Exception as e:\n",
    "      print(\"Connection failed:\", e)\n",
    "  finally:\n",
    "      driver.close()\n",
    "\n",
    "test_connection()"
   ]
  },
  {
   "cell_type": "code",
   "execution_count": 36,
   "id": "e570f7ce",
   "metadata": {},
   "outputs": [
    {
     "name": "stdout",
     "output_type": "stream",
     "text": [
      "Healthcare Knowledge Graph QA System Test\n",
      "--------------------------------------------------\n",
      "\n",
      "Question: How many patients are in the database?\n",
      "Answer: There are 2 patients in the database.\n",
      "\n",
      "Question: What conditions does John Doe have?\n",
      "Answer: I'm sorry, I don't understand that question. Try asking about:\n",
      "              - Number of patients\n",
      "              - Patient conditions\n",
      "              - Doctor-patient relationships\n",
      "              - Medications prescribed\n",
      "              - Doctors by specialty\n",
      "\n",
      "Question: Who treats Jane Smith?\n",
      "Answer: Dr. Dr. Smith (Cardiology) treats John Doe\n",
      "Dr. Dr. Jones (Neurology) treats Jane Smith\n",
      "\n",
      "\n",
      "Question: What medications are prescribed to patients?\n",
      "Answer: John Doe is prescribed: Lisinopril (10mg)\n",
      "Jane Smith is prescribed: Metformin (500mg)\n",
      "\n",
      "\n",
      "Question: Show me all doctors by specialty\n",
      "Answer: Doctors by specialty:\n",
      "Cardiology: Dr. Smith\n",
      "Neurology: Dr. Jones\n",
      "\n"
     ]
    }
   ],
   "source": [
    "from neo4j import GraphDatabase\n",
    "\n",
    "# Connection details matching your Neo4j Desktop configuration\n",
    "uri = \"bolt://localhost:7687\"    # Using bolt protocol on default port 7687\n",
    "username = \"neo4j\"               # Default Neo4j username\n",
    "password = \"password1234\"   # The password you set\n",
    "\n",
    "def healthcare_qa(question):\n",
    "  \"\"\"\n",
    "  Function to handle natural language questions about healthcare data\n",
    "  Parameters:\n",
    "      question (str): Natural language question from user\n",
    "  Returns:\n",
    "      str: Answer to the question based on database query\n",
    "  \"\"\"\n",
    "  # Create a driver instance to connect to Neo4j\n",
    "  driver = GraphDatabase.driver(uri, auth=(username, password))\n",
    "\n",
    "  # Convert question to lowercase to make matching easier\n",
    "  question = question.lower()\n",
    "\n",
    "  try:\n",
    "      # Create a session for database operations\n",
    "      with driver.session() as session:\n",
    "\n",
    "          # Pattern 1: Count total patients\n",
    "          if \"how many patients\" in question:\n",
    "              # Simple query to count Patient nodes\n",
    "              result = session.run(\"\"\"\n",
    "                  MATCH (p:Patient) \n",
    "                  RETURN count(p) as count\n",
    "              \"\"\")\n",
    "              count = result.single()[\"count\"]\n",
    "              return f\"There are {count} patients in the database.\"\n",
    "\n",
    "          # Pattern 2: Patient conditions query\n",
    "          elif \"what conditions\" in question and \"patient\" in question:\n",
    "              # Query to find conditions for all patients\n",
    "              result = session.run(\"\"\"\n",
    "                  MATCH (p:Patient)-[:DIAGNOSED_WITH]->(c:Condition)\n",
    "                  RETURN \n",
    "                      p.name as patient,\n",
    "                      collect(c.name) as conditions\n",
    "              \"\"\")\n",
    "              # Format the response\n",
    "              response = \"\"\n",
    "              for record in result:\n",
    "                  conditions_list = ', '.join(record['conditions'])\n",
    "                  response += f\"{record['patient']} has the following conditions: {conditions_list}\\n\"\n",
    "              return response\n",
    "\n",
    "          # Pattern 3: Doctor-Patient relationships\n",
    "          elif \"who treats\" in question or \"doctor for\" in question:\n",
    "              # Query to find which doctors treat which patients\n",
    "              result = session.run(\"\"\"\n",
    "                  MATCH (d:Doctor)-[:TREATS]->(p:Patient)\n",
    "                  RETURN \n",
    "                      d.name as doctor,\n",
    "                      d.specialty as specialty,\n",
    "                      p.name as patient\n",
    "              \"\"\")\n",
    "              # Format the response\n",
    "              response = \"\"\n",
    "              for record in result:\n",
    "                  response += f\"Dr. {record['doctor']} ({record['specialty']}) treats {record['patient']}\\n\"\n",
    "              return response\n",
    "\n",
    "          # Pattern 4: Medication information\n",
    "          elif \"medications\" in question:\n",
    "              # Query to find medications prescribed to patients\n",
    "              result = session.run(\"\"\"\n",
    "                  MATCH (p:Patient)-[:PRESCRIBED]->(m:Medication)\n",
    "                  RETURN \n",
    "                      p.name as patient,\n",
    "                      collect({\n",
    "                          name: m.name,\n",
    "                          dosage: m.dosage\n",
    "                      }) as medications\n",
    "              \"\"\")\n",
    "              # Format the response\n",
    "              response = \"\"\n",
    "              for record in result:\n",
    "                  # Create a formatted list of medications with dosages\n",
    "                  meds = [f\"{m['name']} ({m['dosage']})\" for m in record['medications']]\n",
    "                  response += f\"{record['patient']} is prescribed: {', '.join(meds)}\\n\"\n",
    "              return response\n",
    "\n",
    "          # Pattern 5: Doctors by specialty\n",
    "          elif \"doctors\" in question and \"specialty\" in question:\n",
    "              # Query to group doctors by their specialties\n",
    "              result = session.run(\"\"\"\n",
    "                  MATCH (d:Doctor)\n",
    "                  RETURN \n",
    "                      d.specialty as specialty,\n",
    "                      collect(d.name) as doctors\n",
    "              \"\"\")\n",
    "              # Format the response\n",
    "              response = \"Doctors by specialty:\\n\"\n",
    "              for record in result:\n",
    "                  response += f\"{record['specialty']}: {', '.join(record['doctors'])}\\n\"\n",
    "              return response\n",
    "\n",
    "          # Default response for unrecognized questions\n",
    "          else:\n",
    "              return \"\"\"I'm sorry, I don't understand that question. Try asking about:\n",
    "              - Number of patients\n",
    "              - Patient conditions\n",
    "              - Doctor-patient relationships\n",
    "              - Medications prescribed\n",
    "              - Doctors by specialty\"\"\"\n",
    "\n",
    "  finally:\n",
    "      # Always close the driver connection\n",
    "      driver.close()\n",
    "\n",
    "# Example usage with test questions\n",
    "def test_qa_system():\n",
    "  test_questions = [\n",
    "      \"How many patients are in the database?\",\n",
    "      \"What conditions does John Doe have?\",\n",
    "      \"Who treats Jane Smith?\",\n",
    "      \"What medications are prescribed to patients?\",\n",
    "      \"Show me all doctors by specialty\"\n",
    "  ]\n",
    "\n",
    "  print(\"Healthcare Knowledge Graph QA System Test\")\n",
    "  print(\"-\" * 50)\n",
    "  for question in test_questions:\n",
    "      print(f\"\\nQuestion: {question}\")\n",
    "      print(f\"Answer: {healthcare_qa(question)}\")\n",
    "\n",
    "# Run the test\n",
    "test_qa_system()"
   ]
  },
  {
   "cell_type": "code",
   "execution_count": null,
   "id": "1dca5197",
   "metadata": {},
   "outputs": [],
   "source": []
  }
 ],
 "metadata": {
  "kernelspec": {
   "display_name": "Python (llama_env)",
   "language": "python",
   "name": "llama_env"
  },
  "language_info": {
   "codemirror_mode": {
    "name": "ipython",
    "version": 3
   },
   "file_extension": ".py",
   "mimetype": "text/x-python",
   "name": "python",
   "nbconvert_exporter": "python",
   "pygments_lexer": "ipython3",
   "version": "3.10.15"
  }
 },
 "nbformat": 4,
 "nbformat_minor": 5
}
